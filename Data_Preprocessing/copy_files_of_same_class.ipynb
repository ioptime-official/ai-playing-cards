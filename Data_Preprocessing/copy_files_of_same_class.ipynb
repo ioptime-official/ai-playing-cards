{
 "cells": [
  {
   "cell_type": "code",
   "execution_count": 1,
   "id": "da6f4a87",
   "metadata": {},
   "outputs": [],
   "source": [
    "# importing libraries\n",
    "import glob\n",
    "import os\n",
    "import shutil"
   ]
  },
  {
   "cell_type": "code",
   "execution_count": 17,
   "id": "53f04c84",
   "metadata": {},
   "outputs": [],
   "source": [
    "def copy_file(file, check):\n",
    "    # copying that file into into destination folder\n",
    "    \n",
    "    original = \"D:\\\\object detection\\\\original_dataset\\\\\" + os.path.splitext(os.path.basename(file.name))[0] # source folder\n",
    "    destination = \"D:\\\\object detection\\\\class3\\\\\"  + os.path.splitext(os.path.basename(file.name))[0] # destination folder\n",
    "\n",
    "    # copy commands for both txt and image files\n",
    "    shutil.copyfile(original + \".txt\", destination + \".txt\")\n",
    "    shutil.copyfile(original + \".jpg\",destination + \".jpg\")\n"
   ]
  },
  {
   "cell_type": "code",
   "execution_count": 18,
   "id": "a3f89312",
   "metadata": {},
   "outputs": [],
   "source": [
    "os.mkdir(\"D:\\\\object detection\\\\class3\") # make new directory to store copied files (optional)\n",
    "\n",
    "# counter is according to the number of classes\n",
    "counter = 0\n",
    "\n",
    "for file in glob.glob(\"D:\\\\object detection\\\\original_dataset\\\\*.txt\"): # source folder\n",
    "    file1 = open(file, 'r')\n",
    "    Lines = file1.readlines()\n",
    "    check = False\n",
    "    \n",
    "    # going  through each line of bbox file\n",
    "    for line in Lines:\n",
    "        \n",
    "        if(line[0]=='3'):\n",
    "            check = True\n",
    "        \n",
    "    # closing that file\n",
    "    file1.close()\n",
    "    \n",
    "    # showing file name for specific class\n",
    "#     if check is True:\n",
    "#         print(file1.name)\n",
    "\n",
    "    # calling copy_file function \n",
    "    if check is True:\n",
    "        copy_file(file1 , check)\n",
    "        counter += 1\n",
    "        \n",
    "# print(\"all files of california poopy are copied\")"
   ]
  },
  {
   "cell_type": "code",
   "execution_count": 20,
   "id": "a835c9d1",
   "metadata": {},
   "outputs": [
    {
     "name": "stdout",
     "output_type": "stream",
     "text": [
      "Files written: 120\n"
     ]
    }
   ],
   "source": [
    "print(\"Files written: \" + str(counter))"
   ]
  }
 ],
 "metadata": {
  "kernelspec": {
   "display_name": "Python 3 (ipykernel)",
   "language": "python",
   "name": "python3"
  },
  "language_info": {
   "codemirror_mode": {
    "name": "ipython",
    "version": 3
   },
   "file_extension": ".py",
   "mimetype": "text/x-python",
   "name": "python",
   "nbconvert_exporter": "python",
   "pygments_lexer": "ipython3",
   "version": "3.11.6"
  }
 },
 "nbformat": 4,
 "nbformat_minor": 5
}
